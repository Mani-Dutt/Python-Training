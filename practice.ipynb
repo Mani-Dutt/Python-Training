{
 "cells": [
  {
   "cell_type": "code",
   "execution_count": 20,
   "metadata": {},
   "outputs": [
    {
     "name": "stdout",
     "output_type": "stream",
     "text": [
      "21\n"
     ]
    }
   ],
   "source": [
    "def printEven(n):\n",
    "    cnt = 0\n",
    "    sum = 0\n",
    "    while(cnt!=n):\n",
    "        if(cnt%2==0):\n",
    "            sum= sum + cnt\n",
    "            \n",
    "        cnt = cnt + 1 \n",
    "    return cnt       \n",
    "print(printEven(21))"
   ]
  },
  {
   "cell_type": "code",
   "execution_count": 16,
   "metadata": {},
   "outputs": [
    {
     "name": "stdout",
     "output_type": "stream",
     "text": [
      "1 2 3 4 6 "
     ]
    }
   ],
   "source": [
    "def factorsList(n):\n",
    "    i=1\n",
    "    while(i!=n):\n",
    "        if(n%i==0):\n",
    "            print(i,end=\" \")\n",
    "        i=i+1\n",
    "    return\n",
    "\n",
    "factorsList(12)"
   ]
  },
  {
   "cell_type": "code",
   "execution_count": 25,
   "metadata": {},
   "outputs": [
    {
     "name": "stdout",
     "output_type": "stream",
     "text": [
      "[1, 2, 3, 4, 5]\n",
      "1\n"
     ]
    }
   ],
   "source": [
    "list1 = [1,2,3,4,5]\n",
    "print(list1)\n",
    "#list[0]\n",
    "print(list1[0])"
   ]
  },
  {
   "cell_type": "code",
   "execution_count": 34,
   "metadata": {},
   "outputs": [
    {
     "name": "stdout",
     "output_type": "stream",
     "text": [
      "1 2 3 4 5 6 7 \n",
      "5\n",
      "[4, 5, 6, 7]\n",
      "[1, 2, 3]\n",
      "[2, 3, 4, 5, 6]\n",
      "[3, 4, 5]\n",
      "[1, 5]\n",
      "[7, 6, 5, 4, 3, 2, 1]\n"
     ]
    }
   ],
   "source": [
    "list2  = [1,2,3,4,5,6,7]\n",
    "for x in list2:\n",
    "    print(x,end= \" \")\n",
    "print()\n",
    "print(list2[4])\n",
    "print(list2[3:7])\n",
    "print(list2[:3])\n",
    "print(list2[1:-1])\n",
    "print(list2[2:-2])\n",
    "print(list2[::4])\n",
    "print(list2[::-1])"
   ]
  },
  {
   "cell_type": "code",
   "execution_count": 3,
   "metadata": {},
   "outputs": [
    {
     "name": "stdout",
     "output_type": "stream",
     "text": [
      "['gitam', 'python', 1, 4]\n"
     ]
    },
    {
     "data": {
      "text/plain": [
       "2"
      ]
     },
     "execution_count": 3,
     "metadata": {},
     "output_type": "execute_result"
    }
   ],
   "source": [
    "list1=[\"gitam\",\"python\",1,4]\n",
    "print(list1)\n",
    "list1.index(\"python\")\n",
    "list1.index(1)\n",
    "\n"
   ]
  },
  {
   "cell_type": "code",
   "execution_count": 4,
   "metadata": {},
   "outputs": [
    {
     "name": "stdout",
     "output_type": "stream",
     "text": [
      "['hello', 'hi', 'python']\n",
      "['hi', 'python']\n",
      "['python', 'hi']\n"
     ]
    }
   ],
   "source": [
    "list1 = [\"hello\",\"hi\",\"python\"]\n",
    "print(list1)\n",
    "list1.remove(\"hello\")\n",
    "print(list1)\n",
    "list1.reverse()\n",
    "print(list1)"
   ]
  },
  {
   "cell_type": "code",
   "execution_count": 2,
   "metadata": {},
   "outputs": [
    {
     "name": "stdout",
     "output_type": "stream",
     "text": [
      "target item not found\n"
     ]
    }
   ],
   "source": [
    "def linearSearch(a,tarItem):\n",
    "    flag=0\n",
    "    for i in range(len(a)):\n",
    "        if a[i] == tarItem:\n",
    "            flag=1\n",
    "            break\n",
    "        if(flag!=0):\n",
    "            print(\"target item is found\")\n",
    "        else:\n",
    "            print(\"target item not found\")\n",
    "a=[16,5]\n",
    "linearSearch(a,5)"
   ]
  },
  {
   "cell_type": "code",
   "execution_count": 4,
   "metadata": {},
   "outputs": [
    {
     "name": "stdout",
     "output_type": "stream",
     "text": [
      "2\n"
     ]
    }
   ],
   "source": [
    "def linearSearchDuplicate(a,tarItem):\n",
    "    flag=0\n",
    "    for i in range(len(a)):\n",
    "        if a[i] == tarItem:\n",
    "            flag=flag+1\n",
    "    print(flag)        \n",
    "a=[1,2,3,1,4]\n",
    "linearSearchDuplicate(a,1)"
   ]
  },
  {
   "cell_type": "code",
   "execution_count": 8,
   "metadata": {},
   "outputs": [
    {
     "name": "stdout",
     "output_type": "stream",
     "text": [
      "target item not found\n"
     ]
    }
   ],
   "source": [
    "def linearSearchDuplicate(a,tarItem):\n",
    "    flag=0\n",
    "    for i in range(len(a)):\n",
    "        if a[i] == tarItem:\n",
    "            flag=flag+1\n",
    "            break\n",
    "        elif(flag!=0):\n",
    "            print(\"target item is found\")\n",
    "        else:\n",
    "            print(\"target item not found\")\n",
    "a=[16,5,4,5]\n",
    "linearSearchDuplicate(a,5)"
   ]
  },
  {
   "cell_type": "code",
   "execution_count": 10,
   "metadata": {},
   "outputs": [
    {
     "name": "stdout",
     "output_type": "stream",
     "text": [
      "[1, 3, 5, 7, 9]\n"
     ]
    }
   ],
   "source": [
    "a=[1,2,3,4,5,6,7,8,9]\n",
    "print(a[::2])"
   ]
  },
  {
   "cell_type": "code",
   "execution_count": 15,
   "metadata": {},
   "outputs": [
    {
     "name": "stdout",
     "output_type": "stream",
     "text": [
      " ! !    ! ! ! ! !   "
     ]
    }
   ],
   "source": [
    "def linearExample(a,tarItem):\n",
    "    for i in range(len(a)):\n",
    "        if a[i] == tarItem:\n",
    "            j=0\n",
    "            while j!=i+1:\n",
    "                print(\"!\",end = \" \")\n",
    "                j=j+1\n",
    "        print(end= \" \")\n",
    "a=[1,5,9,6,5,4]\n",
    "linearExample(a,5)"
   ]
  },
  {
   "cell_type": "code",
   "execution_count": 18,
   "metadata": {},
   "outputs": [
    {
     "name": "stdout",
     "output_type": "stream",
     "text": [
      "1 3 8 15 5 "
     ]
    }
   ],
   "source": [
    "def linearformattoutput(a):\n",
    "    for i in range(len(a)):\n",
    "        if i == 0 or i == (len(a) - 1):\n",
    "            print(a[i],end = \" \")\n",
    "        else:\n",
    "            print(a[i-1] * a[i+1],end=\" \")\n",
    "a=[1,2,3,4,5]\n",
    "linearformattoutput(a)\n",
    "        "
   ]
  },
  {
   "cell_type": "raw",
   "metadata": {},
   "source": [
    " def numberTolistconversion(n):\n",
    "        list[]\n",
    "        while n != 0:\n",
    "            r = n % 10\n",
    "            list=append(r)\n",
    "            n= n //10\n",
    "        lst.reverse()\n",
    "        print(lst)\n",
    "n= int(input(\"enter a number\"))\n",
    "numberTolistconversion(n)\n",
    "        "
   ]
  },
  {
   "cell_type": "code",
   "execution_count": null,
   "metadata": {},
   "outputs": [],
   "source": []
  }
 ],
 "metadata": {
  "kernelspec": {
   "display_name": "Python 3",
   "language": "python",
   "name": "python3"
  },
  "language_info": {
   "codemirror_mode": {
    "name": "ipython",
    "version": 3
   },
   "file_extension": ".py",
   "mimetype": "text/x-python",
   "name": "python",
   "nbconvert_exporter": "python",
   "pygments_lexer": "ipython3",
   "version": "3.7.3"
  }
 },
 "nbformat": 4,
 "nbformat_minor": 2
}
